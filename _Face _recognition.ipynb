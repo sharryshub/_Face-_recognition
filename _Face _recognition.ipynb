{
 "cells": [
  {
   "cell_type": "code",
   "execution_count": null,
   "id": "neutral-packet",
   "metadata": {},
   "outputs": [],
   "source": [
    "import cv2 # For image and computer vision library of Python bindings designed to solve computer vision problems.\n",
    "#cv2.imread() method loads an image from the specified file"
   ]
  },
  {
   "cell_type": "code",
   "execution_count": null,
   "id": "humanitarian-energy",
   "metadata": {},
   "outputs": [],
   "source": [
    "face3=cv2.CascadeClassifier(\"C:\\\\Users\\\\Sharry\\\\OneDrive\\\\Desktop\\\\Jupyter notebook\\\\haarcascade_frontalface_default.xml\") \n",
    "#store haarcascade file \n",
    "igc=cv2.VideoCapture(0) # use 1 for an external camera \n",
    "\n",
    "while(True):\n",
    "    rate,frame=igc.read()\n",
    "    face2=face3.detectMultiScale(frame,scaleFactor=1.1, minNeighbors=5)\n",
    "    for x,y,w,h in face2:\n",
    "        img=cv2.rectangle(frame,(x,y),(x+w,y+h),(0,255,0),6)# line width\n",
    "               \n",
    "        \n",
    "    cv2.imshow(\"it\",frame)\n",
    "    if cv2.waitKey(2) & 0xFF==ord('q'): # to destroy the window use q\n",
    "        break\n",
    "\n",
    "igc.release()\n",
    "cv2.imwrite(\"aaaa.jpeg\",frame) # te save file \n",
    "\n",
    "\n",
    "cv2.destroyAllWindows()\n",
    "\n",
    "print(\"The video was successfully saved\")\n",
    "\n",
    "'''\n",
    "while(True):\n",
    "    rate,frame=igc.read()\n",
    "    cv2.imshow(\"dd\",frame)\n",
    "    if cv2.waitKey(2) & 0xFF==ord('q'):\n",
    "        break\n",
    "igc.release()\n",
    "cv2.destroyAllWindows()\n",
    "'''"
   ]
  },
  {
   "cell_type": "code",
   "execution_count": null,
   "id": "rubber-mexican",
   "metadata": {},
   "outputs": [],
   "source": []
  }
 ],
 "metadata": {
  "kernelspec": {
   "display_name": "Python 3",
   "language": "python",
   "name": "python3"
  },
  "language_info": {
   "codemirror_mode": {
    "name": "ipython",
    "version": 3
   },
   "file_extension": ".py",
   "mimetype": "text/x-python",
   "name": "python",
   "nbconvert_exporter": "python",
   "pygments_lexer": "ipython3",
   "version": "3.7.0"
  }
 },
 "nbformat": 4,
 "nbformat_minor": 5
}
